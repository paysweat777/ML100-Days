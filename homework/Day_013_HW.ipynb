{
 "cells": [
  {
   "cell_type": "markdown",
   "metadata": {},
   "source": [
    "## 練習時間\n",
    "參考 Day 12 範例程式，離散化你覺得有興趣的欄位，並嘗試找出有趣的訊息"
   ]
  },
  {
   "cell_type": "code",
   "execution_count": 1,
   "metadata": {},
   "outputs": [],
   "source": [
    "# Import 需要的套件\n",
    "import os\n",
    "import numpy as np\n",
    "import pandas as pd\n",
    "\n",
    "import matplotlib.pyplot as plt\n",
    "%matplotlib inline"
   ]
  },
  {
   "cell_type": "markdown",
   "metadata": {},
   "source": [
    "### 之前做過的處理"
   ]
  },
  {
   "cell_type": "code",
   "execution_count": 2,
   "metadata": {},
   "outputs": [],
   "source": [
    "# 設定 data_path\n",
    "dir_data = './data/'\n",
    "f_app_train = os.path.join(dir_data, 'application_train.csv')\n",
    "f_app_test = os.path.join(dir_data, 'application_test.csv')\n",
    "\n",
    "app_train = pd.read_csv(f_app_train)\n",
    "app_test = pd.read_csv(f_app_test)\n",
    "\n",
    "from sklearn.preprocessing import LabelEncoder\n",
    "\n",
    "# Create a label encoder object\n",
    "le = LabelEncoder()\n",
    "le_count = 0\n",
    "\n",
    "# Iterate through the columns\n",
    "for col in app_train:\n",
    "    if app_train[col].dtype == 'object':\n",
    "        # If 2 or fewer unique categories\n",
    "        if len(list(app_train[col].unique())) <= 2:\n",
    "            # Train on the training data\n",
    "            le.fit(app_train[col])\n",
    "            # Transform both training and testing data\n",
    "            app_train[col] = le.transform(app_train[col])\n",
    "            app_test[col] = le.transform(app_test[col])\n",
    "            \n",
    "            # Keep track of how many columns were label encoded\n",
    "            le_count += 1\n",
    "            \n",
    "app_train = pd.get_dummies(app_train)\n",
    "app_test = pd.get_dummies(app_test)\n",
    "\n",
    "# Create an anomalous flag column\n",
    "app_train['DAYS_EMPLOYED_ANOM'] = app_train[\"DAYS_EMPLOYED\"] == 365243\n",
    "app_train['DAYS_EMPLOYED'].replace({365243: np.nan}, inplace = True)\n",
    "# also apply to testing dataset\n",
    "app_test['DAYS_EMPLOYED_ANOM'] = app_test[\"DAYS_EMPLOYED\"] == 365243\n",
    "app_test[\"DAYS_EMPLOYED\"].replace({365243: np.nan}, inplace = True)\n",
    "\n",
    "# absolute the value of DAYS_BIRTH\n",
    "app_train['DAYS_BIRTH'] = abs(app_train['DAYS_BIRTH'])\n",
    "app_test['DAYS_BIRTH'] = abs(app_test['DAYS_BIRTH'])"
   ]
  },
  {
   "cell_type": "code",
   "execution_count": 3,
   "metadata": {},
   "outputs": [],
   "source": [
    "## 列出欄位值項目>100 的連續型變數"
   ]
  },
  {
   "cell_type": "code",
   "execution_count": 4,
   "metadata": {},
   "outputs": [
    {
     "name": "stdout",
     "output_type": "stream",
     "text": [
      "SK_ID_CURR : 307511\n",
      "AMT_INCOME_TOTAL : 2548\n",
      "AMT_CREDIT : 5603\n",
      "AMT_ANNUITY : 13673\n",
      "AMT_GOODS_PRICE : 1003\n",
      "DAYS_BIRTH : 17460\n",
      "DAYS_EMPLOYED : 12574\n",
      "DAYS_REGISTRATION : 15688\n",
      "DAYS_ID_PUBLISH : 6168\n",
      "EXT_SOURCE_1 : 114585\n",
      "EXT_SOURCE_2 : 119832\n",
      "EXT_SOURCE_3 : 815\n",
      "APARTMENTS_AVG : 2340\n",
      "BASEMENTAREA_AVG : 3781\n",
      "YEARS_BEGINEXPLUATATION_AVG : 286\n",
      "YEARS_BUILD_AVG : 150\n",
      "COMMONAREA_AVG : 3182\n",
      "ELEVATORS_AVG : 258\n",
      "ENTRANCES_AVG : 286\n",
      "FLOORSMAX_AVG : 404\n",
      "FLOORSMIN_AVG : 306\n",
      "LANDAREA_AVG : 3528\n",
      "LIVINGAPARTMENTS_AVG : 1869\n",
      "LIVINGAREA_AVG : 5200\n",
      "NONLIVINGAPARTMENTS_AVG : 387\n",
      "NONLIVINGAREA_AVG : 3291\n",
      "APARTMENTS_MODE : 761\n",
      "BASEMENTAREA_MODE : 3842\n",
      "YEARS_BEGINEXPLUATATION_MODE : 222\n",
      "YEARS_BUILD_MODE : 155\n",
      "COMMONAREA_MODE : 3129\n",
      "LANDAREA_MODE : 3564\n",
      "LIVINGAPARTMENTS_MODE : 737\n",
      "LIVINGAREA_MODE : 5302\n",
      "NONLIVINGAPARTMENTS_MODE : 168\n",
      "NONLIVINGAREA_MODE : 3328\n",
      "APARTMENTS_MEDI : 1149\n",
      "BASEMENTAREA_MEDI : 3773\n",
      "YEARS_BEGINEXPLUATATION_MEDI : 246\n",
      "YEARS_BUILD_MEDI : 152\n",
      "COMMONAREA_MEDI : 3203\n",
      "LANDAREA_MEDI : 3561\n",
      "LIVINGAPARTMENTS_MEDI : 1098\n",
      "LIVINGAREA_MEDI : 5282\n",
      "NONLIVINGAPARTMENTS_MEDI : 215\n",
      "NONLIVINGAREA_MEDI : 3324\n",
      "TOTALAREA_MODE : 5117\n",
      "DAYS_LAST_PHONE_CHANGE : 3774\n"
     ]
    }
   ],
   "source": [
    "for i in app_train.columns:\n",
    "    if len(app_train[i].unique()) > 100:\n",
    "        print(f\"{i} : {len(app_train[i].unique())}\")"
   ]
  },
  {
   "cell_type": "markdown",
   "metadata": {},
   "source": [
    "- DAYS_BIRTH 客戶年齡\n",
    "- DAYS_EMPLOYED 客戶工作年資"
   ]
  },
  {
   "cell_type": "code",
   "execution_count": 5,
   "metadata": {},
   "outputs": [
    {
     "data": {
      "text/html": [
       "<div>\n",
       "<style scoped>\n",
       "    .dataframe tbody tr th:only-of-type {\n",
       "        vertical-align: middle;\n",
       "    }\n",
       "\n",
       "    .dataframe tbody tr th {\n",
       "        vertical-align: top;\n",
       "    }\n",
       "\n",
       "    .dataframe thead th {\n",
       "        text-align: right;\n",
       "    }\n",
       "</style>\n",
       "<table border=\"1\" class=\"dataframe\">\n",
       "  <thead>\n",
       "    <tr style=\"text-align: right;\">\n",
       "      <th></th>\n",
       "      <th>count</th>\n",
       "      <th>mean</th>\n",
       "      <th>std</th>\n",
       "      <th>min</th>\n",
       "      <th>25%</th>\n",
       "      <th>50%</th>\n",
       "      <th>75%</th>\n",
       "      <th>max</th>\n",
       "    </tr>\n",
       "  </thead>\n",
       "  <tbody>\n",
       "    <tr>\n",
       "      <th>DAYS_BIRTH</th>\n",
       "      <td>307511.0</td>\n",
       "      <td>16036.995067</td>\n",
       "      <td>4363.988632</td>\n",
       "      <td>7489.0</td>\n",
       "      <td>12413.0</td>\n",
       "      <td>15750.0</td>\n",
       "      <td>19682.0</td>\n",
       "      <td>25229.0</td>\n",
       "    </tr>\n",
       "    <tr>\n",
       "      <th>DAYS_EMPLOYED</th>\n",
       "      <td>252137.0</td>\n",
       "      <td>-2384.169325</td>\n",
       "      <td>2338.360162</td>\n",
       "      <td>-17912.0</td>\n",
       "      <td>-3175.0</td>\n",
       "      <td>-1648.0</td>\n",
       "      <td>-767.0</td>\n",
       "      <td>0.0</td>\n",
       "    </tr>\n",
       "  </tbody>\n",
       "</table>\n",
       "</div>"
      ],
      "text/plain": [
       "                  count          mean          std      min      25%      50%  \\\n",
       "DAYS_BIRTH     307511.0  16036.995067  4363.988632   7489.0  12413.0  15750.0   \n",
       "DAYS_EMPLOYED  252137.0  -2384.169325  2338.360162 -17912.0  -3175.0  -1648.0   \n",
       "\n",
       "                   75%      max  \n",
       "DAYS_BIRTH     19682.0  25229.0  \n",
       "DAYS_EMPLOYED   -767.0      0.0  "
      ]
     },
     "execution_count": 5,
     "metadata": {},
     "output_type": "execute_result"
    }
   ],
   "source": [
    "app_train[[\"DAYS_BIRTH\",\"DAYS_EMPLOYED\"]].describe().T"
   ]
  },
  {
   "cell_type": "code",
   "execution_count": 6,
   "metadata": {},
   "outputs": [],
   "source": [
    "app_train[\"DAYS_BIRTH_year\"]=app_train[\"DAYS_BIRTH\"]/365"
   ]
  },
  {
   "cell_type": "code",
   "execution_count": 7,
   "metadata": {},
   "outputs": [],
   "source": [
    "app_train[\"DAYS_EMPLOYED_year\"] = app_train[\"DAYS_EMPLOYED\"]/(-365)"
   ]
  },
  {
   "cell_type": "code",
   "execution_count": 8,
   "metadata": {},
   "outputs": [
    {
     "data": {
      "text/html": [
       "<div>\n",
       "<style scoped>\n",
       "    .dataframe tbody tr th:only-of-type {\n",
       "        vertical-align: middle;\n",
       "    }\n",
       "\n",
       "    .dataframe tbody tr th {\n",
       "        vertical-align: top;\n",
       "    }\n",
       "\n",
       "    .dataframe thead th {\n",
       "        text-align: right;\n",
       "    }\n",
       "</style>\n",
       "<table border=\"1\" class=\"dataframe\">\n",
       "  <thead>\n",
       "    <tr style=\"text-align: right;\">\n",
       "      <th></th>\n",
       "      <th>count</th>\n",
       "      <th>mean</th>\n",
       "      <th>std</th>\n",
       "      <th>min</th>\n",
       "      <th>25%</th>\n",
       "      <th>50%</th>\n",
       "      <th>75%</th>\n",
       "      <th>max</th>\n",
       "    </tr>\n",
       "  </thead>\n",
       "  <tbody>\n",
       "    <tr>\n",
       "      <th>DAYS_BIRTH_year</th>\n",
       "      <td>307511.0</td>\n",
       "      <td>43.936973</td>\n",
       "      <td>11.956133</td>\n",
       "      <td>20.517808</td>\n",
       "      <td>34.008219</td>\n",
       "      <td>43.150685</td>\n",
       "      <td>53.923288</td>\n",
       "      <td>69.120548</td>\n",
       "    </tr>\n",
       "    <tr>\n",
       "      <th>DAYS_EMPLOYED_year</th>\n",
       "      <td>252137.0</td>\n",
       "      <td>6.531971</td>\n",
       "      <td>6.406466</td>\n",
       "      <td>-0.000000</td>\n",
       "      <td>2.101370</td>\n",
       "      <td>4.515068</td>\n",
       "      <td>8.698630</td>\n",
       "      <td>49.073973</td>\n",
       "    </tr>\n",
       "  </tbody>\n",
       "</table>\n",
       "</div>"
      ],
      "text/plain": [
       "                       count       mean        std        min        25%  \\\n",
       "DAYS_BIRTH_year     307511.0  43.936973  11.956133  20.517808  34.008219   \n",
       "DAYS_EMPLOYED_year  252137.0   6.531971   6.406466  -0.000000   2.101370   \n",
       "\n",
       "                          50%        75%        max  \n",
       "DAYS_BIRTH_year     43.150685  53.923288  69.120548  \n",
       "DAYS_EMPLOYED_year   4.515068   8.698630  49.073973  "
      ]
     },
     "execution_count": 8,
     "metadata": {},
     "output_type": "execute_result"
    }
   ],
   "source": [
    "app_train[[\"DAYS_BIRTH_year\",\"DAYS_EMPLOYED_year\"]].describe().T"
   ]
  },
  {
   "cell_type": "markdown",
   "metadata": {},
   "source": [
    "### 等寬劃分(ew)"
   ]
  },
  {
   "cell_type": "code",
   "execution_count": 16,
   "metadata": {},
   "outputs": [
    {
     "data": {
      "text/plain": [
       "(20.469, 25.378]    13679\n",
       "(25.378, 30.238]    33127\n",
       "(30.238, 35.099]    38430\n",
       "(35.099, 39.959]    41758\n",
       "(39.959, 44.819]    40350\n",
       "(44.819, 49.679]    34311\n",
       "(49.679, 54.54]     33544\n",
       "(54.54, 59.4]       32650\n",
       "(59.4, 64.26]       27685\n",
       "(64.26, 69.121]     11977\n",
       "Name: DAYS_BIRTH_year_ew, dtype: int64"
      ]
     },
     "execution_count": 16,
     "metadata": {},
     "output_type": "execute_result"
    }
   ],
   "source": [
    "app_train[\"DAYS_BIRTH_year_ew\"]=pd.cut(app_train[\"DAYS_BIRTH_year\"],10)\n",
    "app_train[\"DAYS_BIRTH_year_ew\"].value_counts().sort_index()"
   ]
  },
  {
   "cell_type": "markdown",
   "metadata": {},
   "source": [
    "### 等頻劃分(ef)"
   ]
  },
  {
   "cell_type": "code",
   "execution_count": 15,
   "metadata": {},
   "outputs": [
    {
     "data": {
      "text/plain": [
       "(-0.001, 2.101]    63056\n",
       "(2.101, 4.515]     63068\n",
       "(4.515, 8.699]     62980\n",
       "(8.699, 49.074]    63033\n",
       "Name: DAYS_EMPLOYED_year_ef, dtype: int64"
      ]
     },
     "execution_count": 15,
     "metadata": {},
     "output_type": "execute_result"
    }
   ],
   "source": [
    "app_train[\"DAYS_EMPLOYED_year_ef\"]=pd.qcut(app_train[\"DAYS_EMPLOYED_year\"],4)\n",
    "app_train[\"DAYS_EMPLOYED_year_ef\"].value_counts().sort_index()"
   ]
  },
  {
   "cell_type": "markdown",
   "metadata": {},
   "source": [
    "## 自定義的 bin"
   ]
  },
  {
   "cell_type": "code",
   "execution_count": 20,
   "metadata": {},
   "outputs": [
    {
     "data": {
      "text/plain": [
       "(20, 30]    45021\n",
       "(30, 40]    82308\n",
       "(40, 50]    76541\n",
       "(50, 60]    68062\n",
       "(60, 70]    35579\n",
       "Name: DAYS_BIRTH_year_sb, dtype: int64"
      ]
     },
     "execution_count": 20,
     "metadata": {},
     "output_type": "execute_result"
    }
   ],
   "source": [
    "app_train[\"DAYS_BIRTH_year_sb\"]=pd.cut(app_train[\"DAYS_BIRTH_year\"],[20,30,40,50,60,70])\n",
    "app_train[\"DAYS_BIRTH_year_sb\"].value_counts().sort_index()"
   ]
  },
  {
   "cell_type": "code",
   "execution_count": 23,
   "metadata": {},
   "outputs": [
    {
     "data": {
      "text/plain": [
       "(0, 1]      27980\n",
       "(1, 3]      61472\n",
       "(3, 5]      46857\n",
       "(5, 10]     64872\n",
       "(10, 20]    38398\n",
       "(20, 50]    12556\n",
       "Name: DAYS_EMPLOYED_year_sb, dtype: int64"
      ]
     },
     "execution_count": 23,
     "metadata": {},
     "output_type": "execute_result"
    }
   ],
   "source": [
    "app_train[\"DAYS_EMPLOYED_year_sb\"]=pd.cut(app_train[\"DAYS_EMPLOYED_year\"],[0,1,3,5,10,20,50])\n",
    "app_train[\"DAYS_EMPLOYED_year_sb\"].value_counts().sort_index()"
   ]
  },
  {
   "cell_type": "code",
   "execution_count": null,
   "metadata": {},
   "outputs": [],
   "source": []
  }
 ],
 "metadata": {
  "kernelspec": {
   "display_name": "ML_DAY100",
   "language": "python",
   "name": "ml_day100"
  },
  "language_info": {
   "codemirror_mode": {
    "name": "ipython",
    "version": 3
   },
   "file_extension": ".py",
   "mimetype": "text/x-python",
   "name": "python",
   "nbconvert_exporter": "python",
   "pygments_lexer": "ipython3",
   "version": "3.6.7"
  }
 },
 "nbformat": 4,
 "nbformat_minor": 2
}
