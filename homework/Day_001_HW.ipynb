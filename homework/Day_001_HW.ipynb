{
 "cells": [
  {
   "cell_type": "markdown",
   "metadata": {},
   "source": [
    "# 作業1：\n",
    "\n",
    "請上 Kaggle, 在 Competitions 或 Dataset 中找一組競賽或資料並寫下：\n",
    "\n",
    "1. 你選的這組資料為何重要\n",
    "\n",
    "2. 資料從何而來 (tips: 譬如提供者是誰、以什麼方式蒐集)\n",
    "\n",
    "3. 蒐集而來的資料型態為何\n",
    "\n",
    "4. 這組資料想解決的問題如何評估"
   ]
  },
  {
   "cell_type": "markdown",
   "metadata": {},
   "source": [
    "### 1. 你選的這組資料為何重要\n",
    "Kaggle: PUBG Finish Placement Prediction (Kernels Only)\n",
    "- 有趣\n",
    "- 蔚為全球風潮的遊戲\n",
    "- 銷量超過5000萬張，每月有數百萬活躍玩家,是有史以來第五暢銷遊戲\n"
   ]
  },
  {
   "cell_type": "markdown",
   "metadata": {},
   "source": [
    "### 2. 資料從何而來 (tips: 譬如提供者是誰、以什麼方式蒐集)\n",
    " \n",
    " Kaggle通過PUBG Developer API收集數據，而非PUBG官方或附屬網站提供"
   ]
  },
  {
   "cell_type": "markdown",
   "metadata": {},
   "source": [
    "### 3. 蒐集而來的資料型態為何\n",
    "結構化資料\n",
    "\n",
    "|特徵\t|型態\t|英文說明\t|\n",
    "|:----|:---:|:---------|\n",
    "|Id\t|object\t|Player’s Id\t|\n",
    "|groupId\t|object\t|ID to identify a group within a match. If the same group of players plays in different matches, they will have a different groupId each time.\t|\n",
    "|matchId\t|object\t|ID to identify match. There are no matches that are in both the training and testing set.\t|\n",
    "|assists\t|int64\t|Number of enemy players this player damaged that were killed by teammates.\t|\n",
    "|DBNOs\t|int64\t|Number of enemy players knocked.\t|\n",
    "|revives\t|int64\t|Number of times this player revived teammates.\t|\n",
    "|teamKills\t|int64\t|Number of times this player killed a teammate.\t|\n",
    "|boosts\t|int64\t|Number of boost items used.\t|\n",
    "|heals\t|int64\t|Number of healing items used.\t|\n",
    "|damageDealt\t|float64\t|Total damage dealt. Note: Self inflicted damage is subtracted.\t|\n",
    "|headshotKills\t|int64\t|Number of enemy players killed with headshots.\t|\n",
    "|kills\t|int64\t|Number of enemy players killed.\t|\n",
    "|killStreaks\t|int64\t|Max number of enemy players killed in a short amount of time.\t|\n",
    "|longestKill\t|float64\t|Longest distance between player and player killed at time of death. This may be misleading, as downing a player and driving away may lead to a large longestKill stat.\t|\n",
    "|rideDistance\t|float64\t|Total distance traveled in vehicles measured in meters.\t|\n",
    "|roadKills\t|int64\t|Number of kills while in a vehicle.\t|\n",
    "|swimDistance\t|float64\t|Total distance traveled by swimming measured in meters.\t|\n",
    "|vehicleDestroys\t|int64\t|Number of vehicles destroyed.\t|\n",
    "|walkDistance\t|float64\t|Total distance traveled on foot measured in meters.\n",
    "|weaponsAcquired\t|int64\t|Number of weapons picked up.\n",
    "|killPlace\t|int64\t|Ranking in match of number of enemy players killed.|\n",
    "|killPoints\t|int64\t|Kills-based external ranking of player. (Think of this as an Elo ranking where only kills matter.) If there is a value other than -1 in rankPoints, then any 0 in killPoints should be treated as a “None”.|\n",
    "|rankPoints\t|int64\t|Elo-like ranking of player. This ranking is inconsistent and is being deprecated in the API’s next version, so use with caution. Value of -1 takes place of “None”.|\n",
    "|winPoints\t|int64\t|Win-based external ranking of player. (Think of this as an Elo ranking where only winning matters.) If there is a value other than -1 in rankPoints, then any 0 in winPoints should be treated as a “None”.|\n",
    "|matchType\t|object\t|String identifying the game mode that the data comes from. The standard modes are “solo”, “duo”, “squad”, “solo-fpp”, “duo-fpp”, and “squad-fpp”; other modes are from events or custom matches.|\n",
    "|maxPlace\t|int64\t|Worst placement we have data for in the match. This may not match with numGroups, as sometimes the data skips over placements.|\n",
    "|numGroups\t|int64\t|Number of groups we have data for in the match.|\t\n",
    "|winPlacePerc\t|float64\t|The target of prediction. This is a percentile winning placement, where 1 corresponds to 1st place, and 0 corresponds to last place in the match. It is calculated off of maxPlace, not numGroups, so it is possible to have missing chunks in a match.|\t"
   ]
  },
  {
   "cell_type": "markdown",
   "metadata": {},
   "source": [
    "### 4. 這組資料想解決的問題如何評估\n",
    "- 目標:預測玩家的 winPlacePerc\n",
    "- 評估: winPlacePerc 平均絕對誤差 (Mean Absolute Error, MAE) "
   ]
  },
  {
   "cell_type": "markdown",
   "metadata": {},
   "source": [
    "# 作業2：\n",
    "\n",
    "想像你經營一個自由載客車隊，你希望能透過數據分析以提升業績，請你思考並描述你如何規劃整體的分析/解決方案：\n",
    "\n",
    "1. 核心問題為何 (tips：如何定義 「提升業績 & 你的假設」)\n",
    "\n",
    "2. 資料從何而來 (tips：哪些資料可能會對你想問的問題產生影響 & 資料如何蒐集)\n",
    "\n",
    "3. 蒐集而來的資料型態為何\n",
    "\n",
    "4. 你要回答的問題，其如何評估 (tips：你的假設如何驗證)"
   ]
  },
  {
   "cell_type": "markdown",
   "metadata": {},
   "source": [
    "### 1. 核心問題為何 (tips：如何定義 「提升業績 & 你的假設」)\n",
    "- 載客熱區\n",
    "- 載客熱區能減少等待載客時間，提高效率以提升業績"
   ]
  },
  {
   "cell_type": "markdown",
   "metadata": {},
   "source": [
    "### 2. 資料從何而來 (tips：哪些資料可能會對你想問的問題產生影響 & 資料如何蒐集)\n",
    "- 全車隊計程車GPS定位系統及行車紀錄器影像"
   ]
  },
  {
   "cell_type": "markdown",
   "metadata": {},
   "source": [
    "### 3. 蒐集而來的資料型態為何\n",
    "- 結構化資料: 經緯度定位、等載客停留時間\n",
    "- 非結構化資料: 行車紀錄器影像欲搭車乘客辨識"
   ]
  },
  {
   "cell_type": "markdown",
   "metadata": {},
   "source": [
    "### 4. 你要回答的問題，其如何評估 (tips：你的假設如何驗證)\n",
    "- 哪些區域地點是熱區 : ROC,F1-score"
   ]
  },
  {
   "cell_type": "markdown",
   "metadata": {},
   "source": [
    "# 作業3：\n",
    "\n",
    "請點選檢視範例依照 Day_001_example_of_metrics.ipynb 完成 Mean Squared Error 的函式\n",
    "\n",
    "資料夾結構建立規則提醒：ML100 > data資料夾 & ipynb檔 \n",
    "\n",
    "(請注意data的存放位置，建議放在*.ipynb 同一個目錄下，這樣才能在不修改code的情況下正常執行)"
   ]
  },
  {
   "cell_type": "markdown",
   "metadata": {},
   "source": [
    "## 練習時間\n",
    "#### 請寫一個函式用來計算 Mean Square Error\n",
    "$ MSE = \\frac{1}{n}\\sum_{i=1}^{n}{(Y_i - \\hat{Y}_i)^2} $\n",
    "\n",
    "### Hint: [如何取平方](https://googoodesign.gitbooks.io/-ezpython/unit-1.html)"
   ]
  },
  {
   "cell_type": "code",
   "execution_count": 1,
   "metadata": {},
   "outputs": [],
   "source": [
    "import numpy as np\n",
    "import matplotlib.pyplot as plt"
   ]
  },
  {
   "cell_type": "code",
   "execution_count": 2,
   "metadata": {},
   "outputs": [],
   "source": [
    "def mean_squared_error(y,y_hat):\n",
    "    \"\"\"\n",
    "    請完成這個 Function 後往下執行\n",
    "    \"\"\"\n",
    "    y_dos = (y-y_hat)**2\n",
    "    mse = np.mean(y_dos)\n",
    "    return mse\n",
    "    \n",
    "    \n",
    "def mean_absolute_error(y,y_hat):\n",
    "    \"\"\"\n",
    "    請完成這個 Function 後往下執行\n",
    "    \"\"\"\n",
    "    y_abs = np.absolute(y-y_hat)\n",
    "    mae = np.mean(y_abs)\n",
    "    return mae\n",
    "    "
   ]
  },
  {
   "cell_type": "code",
   "execution_count": 3,
   "metadata": {},
   "outputs": [
    {
     "data": {
      "image/png": "[encoded data removed]",
      "text/plain": [
       "<Figure size 432x288 with 1 Axes>"
      ]
     },
     "metadata": {
      "needs_background": "light"
     },
     "output_type": "display_data"
    }
   ],
   "source": [
    "w = 3\n",
    "b = 0.5\n",
    "\n",
    "x_lin = np.linspace(0, 100, 101)\n",
    "\n",
    "y = (x_lin + np.random.randn(101) * 5) * w + b\n",
    "\n",
    "plt.plot(x_lin, y, 'b.', label = 'data points')\n",
    "plt.title(\"Assume we have data points\")\n",
    "plt.legend(loc = 2)\n",
    "plt.show()"
   ]
  },
  {
   "cell_type": "code",
   "execution_count": 4,
   "metadata": {},
   "outputs": [
    {
     "data": {
      "image/png": "[encoded data removed]",
      "text/plain": [
       "<Figure size 432x288 with 1 Axes>"
      ]
     },
     "metadata": {
      "needs_background": "light"
     },
     "output_type": "display_data"
    }
   ],
   "source": [
    "y_hat = x_lin * w + b\n",
    "plt.plot(x_lin, y, 'b.', label = 'data')\n",
    "plt.plot(x_lin, y_hat, 'r-', label = 'prediction')\n",
    "plt.title(\"Assume we have data points (And the prediction)\")\n",
    "plt.legend(loc = 2)\n",
    "plt.show()"
   ]
  },
  {
   "cell_type": "code",
   "execution_count": 5,
   "metadata": {},
   "outputs": [
    {
     "name": "stdout",
     "output_type": "stream",
     "text": [
      "The Mean squared error is 202.271\n",
      "The Mean absolute error is 11.171\n"
     ]
    }
   ],
   "source": [
    "# 執行 Function, 確認有沒有正常執行\n",
    "MSE = mean_squared_error(y, y_hat)\n",
    "MAE = mean_absolute_error(y, y_hat)\n",
    "print(\"The Mean squared error is %.3f\" % (MSE))\n",
    "print(\"The Mean absolute error is %.3f\" % (MAE))"
   ]
  },
  {
   "cell_type": "code",
   "execution_count": null,
   "metadata": {},
   "outputs": [],
   "source": []
  }
 ],
 "metadata": {
  "kernelspec": {
   "display_name": "Kaggle",
   "language": "python",
   "name": "kaggle"
  },
  "language_info": {
   "codemirror_mode": {
    "name": "ipython",
    "version": 3
   },
   "file_extension": ".py",
   "mimetype": "text/x-python",
   "name": "python",
   "nbconvert_exporter": "python",
   "pygments_lexer": "ipython3",
   "version": "3.6.5"
  }
 },
 "nbformat": 4,
 "nbformat_minor": 2
}
